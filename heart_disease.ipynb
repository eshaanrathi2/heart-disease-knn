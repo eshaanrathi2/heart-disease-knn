{
  "nbformat": 4,
  "nbformat_minor": 0,
  "metadata": {
    "colab": {
      "name": "heart_disease.ipynb",
      "provenance": [],
      "collapsed_sections": [],
      "mount_file_id": "1FeL9lwgTq47Kpa6LIwGTql9LQ11Pqh2W",
      "authorship_tag": "ABX9TyM9eCNEN9U/LczQAEniziZt",
      "include_colab_link": true
    },
    "kernelspec": {
      "name": "python3",
      "display_name": "Python 3"
    }
  },
  "cells": [
    {
      "cell_type": "markdown",
      "metadata": {
        "id": "view-in-github",
        "colab_type": "text"
      },
      "source": [
        "<a href=\"https://colab.research.google.com/github/eshaanrathi2/heart-disease-knn/blob/main/heart_disease.ipynb\" target=\"_parent\"><img src=\"https://colab.research.google.com/assets/colab-badge.svg\" alt=\"Open In Colab\"/></a>"
      ]
    },
    {
      "cell_type": "code",
      "metadata": {
        "id": "XKh0KUA8hpzD"
      },
      "source": [
        "#Simplest possible classifier using knn\n",
        "#Afterwards, one can use other types of ML models like random forest, xgboost etc.\n",
        "import pandas as pd\n",
        "import matplotlib.pyplot as plt"
      ],
      "execution_count": 31,
      "outputs": []
    },
    {
      "cell_type": "code",
      "metadata": {
        "id": "cj9fG_UUiQ9_"
      },
      "source": [
        "dataset = pd.read_csv(\"/content/drive/My Drive/heart.csv\")"
      ],
      "execution_count": 32,
      "outputs": []
    },
    {
      "cell_type": "code",
      "metadata": {
        "id": "ZeM6nurXkfLe",
        "outputId": "504e0414-7f13-4e2d-d201-53e04294f3c2",
        "colab": {
          "base_uri": "https://localhost:8080/"
        }
      },
      "source": [
        "from sklearn.model_selection import train_test_split\n",
        "X_train, X_test, y_train, y_test = train_test_split(dataset.loc[:, dataset.columns != 'target'], dataset['target'], stratify=dataset['target'], random_state=1)\n",
        "from sklearn.neighbors import KNeighborsClassifier\n",
        "knn = KNeighborsClassifier(n_neighbors=30)\n",
        "knn.fit(X_train, y_train)\n",
        "print('Accuracy of K-NN classifier on training set: {:.2f}'.format(knn.score(X_train, y_train)))\n",
        "print('Accuracy of K-NN classifier on test set: {:.2f}'.format(knn.score(X_test, y_test)))"
      ],
      "execution_count": 38,
      "outputs": [
        {
          "output_type": "stream",
          "text": [
            "Accuracy of K-NN classifier on training set: 0.69\n",
            "Accuracy of K-NN classifier on test set: 0.70\n"
          ],
          "name": "stdout"
        }
      ]
    }
  ]
}
